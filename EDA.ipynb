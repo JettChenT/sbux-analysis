{
 "cells": [
  {
   "cell_type": "code",
   "execution_count": 2,
   "metadata": {
    "collapsed": true
   },
   "outputs": [],
   "source": [
    "import requests\n",
    "import pandas as pd\n",
    "import requests as re"
   ]
  },
  {
   "cell_type": "code",
   "execution_count": 14,
   "outputs": [
    {
     "name": "stdout",
     "output_type": "stream",
     "text": [
      "537a2a5b6c9f39cc03312110beef039b\n"
     ]
    }
   ],
   "source": [
    "FMP_KEY = \"537a2a5b6c9f39cc03312110beef039b\"\n",
    "print(FMP_KEY)"
   ],
   "metadata": {
    "collapsed": false,
    "pycharm": {
     "name": "#%%\n"
    }
   }
  },
  {
   "cell_type": "code",
   "execution_count": 23,
   "outputs": [],
   "source": [
    "r = requests.get(\"https://financialmodelingprep.com/api/v3/income-statement/SBUX\", params={\n",
    "    'limit':120,\n",
    "    'apikey':FMP_KEY\n",
    "})"
   ],
   "metadata": {
    "collapsed": false,
    "pycharm": {
     "name": "#%%\n"
    }
   }
  },
  {
   "cell_type": "code",
   "execution_count": 24,
   "outputs": [],
   "source": [
    "dt = r.json()\n",
    "data = pd.DataFrame(data=dt)"
   ],
   "metadata": {
    "collapsed": false,
    "pycharm": {
     "name": "#%%\n"
    }
   }
  },
  {
   "cell_type": "code",
   "execution_count": 25,
   "outputs": [
    {
     "data": {
      "text/plain": "         date symbol reportedCurrency         cik fillingDate  \\\n0  2021-10-03   SBUX              USD  0000829224  2021-11-19   \n1  2020-09-27   SBUX              USD  0000829224  2020-11-12   \n2  2019-09-29   SBUX              USD  0000829224  2019-11-15   \n3  2018-09-30   SBUX              USD  0000829224  2018-11-16   \n4  2017-10-01   SBUX              USD  0000829224  2017-11-17   \n\n          acceptedDate calendarYear period      revenue  costOfRevenue  ...  \\\n0  2021-11-19 16:46:02         2021     FY  29060600000    20669600000  ...   \n1  2020-11-12 16:59:07         2020     FY  23518000000    18458900000  ...   \n2  2019-11-15 16:16:58         2019     FY  26508600000    19020500000  ...   \n3  2018-11-16 16:44:31         2018     FY  24719500000    17367700000  ...   \n4  2017-11-17 16:10:18         2017     FY  22386800000    15531500000  ...   \n\n   incomeBeforeTaxRatio  incomeTaxExpense   netIncome  netIncomeRatio  \\\n0              0.184335        1156600000  4199300000        0.144501   \n1              0.049511         239700000   928300000        0.039472   \n2              0.168481         871600000  3599200000        0.135775   \n3              0.233823        1262000000  4518300000        0.182783   \n4              0.192859        1432600000  2884700000        0.128857   \n\n        eps  epsdiluted  weightedAverageShsOut  weightedAverageShsOutDil  \\\n0  3.568394    3.544304             1178500000                1186200000   \n1  0.791187    0.790000             1173300000                1181800000   \n2  2.918590    2.918590             1233200000                1233200000   \n3  3.451455    3.240000             1309100000                1394600000   \n4  1.973790    1.973790             1461500000                1461500000   \n\n                                                link  \\\n0  https://www.sec.gov/Archives/edgar/data/829224...   \n1  https://www.sec.gov/Archives/edgar/data/829224...   \n2  https://www.sec.gov/Archives/edgar/data/829224...   \n3  https://www.sec.gov/Archives/edgar/data/829224...   \n4  https://www.sec.gov/Archives/edgar/data/829224...   \n\n                                           finalLink  \n0  https://www.sec.gov/Archives/edgar/data/829224...  \n1  https://www.sec.gov/Archives/edgar/data/829224...  \n2  https://www.sec.gov/Archives/edgar/data/829224...  \n3  https://www.sec.gov/Archives/edgar/data/829224...  \n4  https://www.sec.gov/Archives/edgar/data/829224...  \n\n[5 rows x 38 columns]",
      "text/html": "<div>\n<style scoped>\n    .dataframe tbody tr th:only-of-type {\n        vertical-align: middle;\n    }\n\n    .dataframe tbody tr th {\n        vertical-align: top;\n    }\n\n    .dataframe thead th {\n        text-align: right;\n    }\n</style>\n<table border=\"1\" class=\"dataframe\">\n  <thead>\n    <tr style=\"text-align: right;\">\n      <th></th>\n      <th>date</th>\n      <th>symbol</th>\n      <th>reportedCurrency</th>\n      <th>cik</th>\n      <th>fillingDate</th>\n      <th>acceptedDate</th>\n      <th>calendarYear</th>\n      <th>period</th>\n      <th>revenue</th>\n      <th>costOfRevenue</th>\n      <th>...</th>\n      <th>incomeBeforeTaxRatio</th>\n      <th>incomeTaxExpense</th>\n      <th>netIncome</th>\n      <th>netIncomeRatio</th>\n      <th>eps</th>\n      <th>epsdiluted</th>\n      <th>weightedAverageShsOut</th>\n      <th>weightedAverageShsOutDil</th>\n      <th>link</th>\n      <th>finalLink</th>\n    </tr>\n  </thead>\n  <tbody>\n    <tr>\n      <th>0</th>\n      <td>2021-10-03</td>\n      <td>SBUX</td>\n      <td>USD</td>\n      <td>0000829224</td>\n      <td>2021-11-19</td>\n      <td>2021-11-19 16:46:02</td>\n      <td>2021</td>\n      <td>FY</td>\n      <td>29060600000</td>\n      <td>20669600000</td>\n      <td>...</td>\n      <td>0.184335</td>\n      <td>1156600000</td>\n      <td>4199300000</td>\n      <td>0.144501</td>\n      <td>3.568394</td>\n      <td>3.544304</td>\n      <td>1178500000</td>\n      <td>1186200000</td>\n      <td>https://www.sec.gov/Archives/edgar/data/829224...</td>\n      <td>https://www.sec.gov/Archives/edgar/data/829224...</td>\n    </tr>\n    <tr>\n      <th>1</th>\n      <td>2020-09-27</td>\n      <td>SBUX</td>\n      <td>USD</td>\n      <td>0000829224</td>\n      <td>2020-11-12</td>\n      <td>2020-11-12 16:59:07</td>\n      <td>2020</td>\n      <td>FY</td>\n      <td>23518000000</td>\n      <td>18458900000</td>\n      <td>...</td>\n      <td>0.049511</td>\n      <td>239700000</td>\n      <td>928300000</td>\n      <td>0.039472</td>\n      <td>0.791187</td>\n      <td>0.790000</td>\n      <td>1173300000</td>\n      <td>1181800000</td>\n      <td>https://www.sec.gov/Archives/edgar/data/829224...</td>\n      <td>https://www.sec.gov/Archives/edgar/data/829224...</td>\n    </tr>\n    <tr>\n      <th>2</th>\n      <td>2019-09-29</td>\n      <td>SBUX</td>\n      <td>USD</td>\n      <td>0000829224</td>\n      <td>2019-11-15</td>\n      <td>2019-11-15 16:16:58</td>\n      <td>2019</td>\n      <td>FY</td>\n      <td>26508600000</td>\n      <td>19020500000</td>\n      <td>...</td>\n      <td>0.168481</td>\n      <td>871600000</td>\n      <td>3599200000</td>\n      <td>0.135775</td>\n      <td>2.918590</td>\n      <td>2.918590</td>\n      <td>1233200000</td>\n      <td>1233200000</td>\n      <td>https://www.sec.gov/Archives/edgar/data/829224...</td>\n      <td>https://www.sec.gov/Archives/edgar/data/829224...</td>\n    </tr>\n    <tr>\n      <th>3</th>\n      <td>2018-09-30</td>\n      <td>SBUX</td>\n      <td>USD</td>\n      <td>0000829224</td>\n      <td>2018-11-16</td>\n      <td>2018-11-16 16:44:31</td>\n      <td>2018</td>\n      <td>FY</td>\n      <td>24719500000</td>\n      <td>17367700000</td>\n      <td>...</td>\n      <td>0.233823</td>\n      <td>1262000000</td>\n      <td>4518300000</td>\n      <td>0.182783</td>\n      <td>3.451455</td>\n      <td>3.240000</td>\n      <td>1309100000</td>\n      <td>1394600000</td>\n      <td>https://www.sec.gov/Archives/edgar/data/829224...</td>\n      <td>https://www.sec.gov/Archives/edgar/data/829224...</td>\n    </tr>\n    <tr>\n      <th>4</th>\n      <td>2017-10-01</td>\n      <td>SBUX</td>\n      <td>USD</td>\n      <td>0000829224</td>\n      <td>2017-11-17</td>\n      <td>2017-11-17 16:10:18</td>\n      <td>2017</td>\n      <td>FY</td>\n      <td>22386800000</td>\n      <td>15531500000</td>\n      <td>...</td>\n      <td>0.192859</td>\n      <td>1432600000</td>\n      <td>2884700000</td>\n      <td>0.128857</td>\n      <td>1.973790</td>\n      <td>1.973790</td>\n      <td>1461500000</td>\n      <td>1461500000</td>\n      <td>https://www.sec.gov/Archives/edgar/data/829224...</td>\n      <td>https://www.sec.gov/Archives/edgar/data/829224...</td>\n    </tr>\n  </tbody>\n</table>\n<p>5 rows × 38 columns</p>\n</div>"
     },
     "execution_count": 25,
     "metadata": {},
     "output_type": "execute_result"
    }
   ],
   "source": [
    "data"
   ],
   "metadata": {
    "collapsed": false,
    "pycharm": {
     "name": "#%%\n"
    }
   }
  },
  {
   "cell_type": "code",
   "execution_count": 4,
   "outputs": [
    {
     "data": {
      "text/plain": "       Brand  Store Number        Store Name Ownership Type  \\\n0  Starbucks  47370-257954     Meritxell, 96       Licensed   \n1  Starbucks  22331-212325  Ajman Drive Thru       Licensed   \n2  Starbucks  47089-256771         Dana Mall       Licensed   \n3  Starbucks  22126-218024        Twofour 54       Licensed   \n4  Starbucks  17127-178586      Al Ain Tower       Licensed   \n\n                    Street Address              City State/Province Country  \\\n0                Av. Meritxell, 96  Andorra la Vella              7      AD   \n1             1 Street 69, Al Jarf             Ajman             AJ      AE   \n2     Sheikh Khalifa Bin Zayed St.             Ajman             AJ      AE   \n3                  Al Salam Street         Abu Dhabi             AZ      AE   \n4  Khaldiya Area, Abu Dhabi Island         Abu Dhabi             AZ      AE   \n\n  Postcode Phone Number                 Timezone  Longitude  Latitude  \n0    AD500    376818720  GMT+1:00 Europe/Andorra       1.53     42.51  \n1      NaN          NaN     GMT+04:00 Asia/Dubai      55.47     25.42  \n2      NaN          NaN     GMT+04:00 Asia/Dubai      55.47     25.39  \n3      NaN          NaN     GMT+04:00 Asia/Dubai      54.38     24.48  \n4      NaN          NaN     GMT+04:00 Asia/Dubai      54.54     24.51  ",
      "text/html": "<div>\n<style scoped>\n    .dataframe tbody tr th:only-of-type {\n        vertical-align: middle;\n    }\n\n    .dataframe tbody tr th {\n        vertical-align: top;\n    }\n\n    .dataframe thead th {\n        text-align: right;\n    }\n</style>\n<table border=\"1\" class=\"dataframe\">\n  <thead>\n    <tr style=\"text-align: right;\">\n      <th></th>\n      <th>Brand</th>\n      <th>Store Number</th>\n      <th>Store Name</th>\n      <th>Ownership Type</th>\n      <th>Street Address</th>\n      <th>City</th>\n      <th>State/Province</th>\n      <th>Country</th>\n      <th>Postcode</th>\n      <th>Phone Number</th>\n      <th>Timezone</th>\n      <th>Longitude</th>\n      <th>Latitude</th>\n    </tr>\n  </thead>\n  <tbody>\n    <tr>\n      <th>0</th>\n      <td>Starbucks</td>\n      <td>47370-257954</td>\n      <td>Meritxell, 96</td>\n      <td>Licensed</td>\n      <td>Av. Meritxell, 96</td>\n      <td>Andorra la Vella</td>\n      <td>7</td>\n      <td>AD</td>\n      <td>AD500</td>\n      <td>376818720</td>\n      <td>GMT+1:00 Europe/Andorra</td>\n      <td>1.53</td>\n      <td>42.51</td>\n    </tr>\n    <tr>\n      <th>1</th>\n      <td>Starbucks</td>\n      <td>22331-212325</td>\n      <td>Ajman Drive Thru</td>\n      <td>Licensed</td>\n      <td>1 Street 69, Al Jarf</td>\n      <td>Ajman</td>\n      <td>AJ</td>\n      <td>AE</td>\n      <td>NaN</td>\n      <td>NaN</td>\n      <td>GMT+04:00 Asia/Dubai</td>\n      <td>55.47</td>\n      <td>25.42</td>\n    </tr>\n    <tr>\n      <th>2</th>\n      <td>Starbucks</td>\n      <td>47089-256771</td>\n      <td>Dana Mall</td>\n      <td>Licensed</td>\n      <td>Sheikh Khalifa Bin Zayed St.</td>\n      <td>Ajman</td>\n      <td>AJ</td>\n      <td>AE</td>\n      <td>NaN</td>\n      <td>NaN</td>\n      <td>GMT+04:00 Asia/Dubai</td>\n      <td>55.47</td>\n      <td>25.39</td>\n    </tr>\n    <tr>\n      <th>3</th>\n      <td>Starbucks</td>\n      <td>22126-218024</td>\n      <td>Twofour 54</td>\n      <td>Licensed</td>\n      <td>Al Salam Street</td>\n      <td>Abu Dhabi</td>\n      <td>AZ</td>\n      <td>AE</td>\n      <td>NaN</td>\n      <td>NaN</td>\n      <td>GMT+04:00 Asia/Dubai</td>\n      <td>54.38</td>\n      <td>24.48</td>\n    </tr>\n    <tr>\n      <th>4</th>\n      <td>Starbucks</td>\n      <td>17127-178586</td>\n      <td>Al Ain Tower</td>\n      <td>Licensed</td>\n      <td>Khaldiya Area, Abu Dhabi Island</td>\n      <td>Abu Dhabi</td>\n      <td>AZ</td>\n      <td>AE</td>\n      <td>NaN</td>\n      <td>NaN</td>\n      <td>GMT+04:00 Asia/Dubai</td>\n      <td>54.54</td>\n      <td>24.51</td>\n    </tr>\n  </tbody>\n</table>\n</div>"
     },
     "execution_count": 4,
     "metadata": {},
     "output_type": "execute_result"
    }
   ],
   "source": [
    "df = pd.read_csv('./directory.csv')\n",
    "df.head()"
   ],
   "metadata": {
    "collapsed": false,
    "pycharm": {
     "name": "#%%\n"
    }
   }
  },
  {
   "cell_type": "code",
   "execution_count": 6,
   "outputs": [],
   "source": [
    "locs = df[['Longitude', 'Latitude']]"
   ],
   "metadata": {
    "collapsed": false,
    "pycharm": {
     "name": "#%%\n"
    }
   }
  },
  {
   "cell_type": "code",
   "execution_count": null,
   "outputs": [],
   "source": [],
   "metadata": {
    "collapsed": false,
    "pycharm": {
     "name": "#%%\n"
    }
   }
  }
 ],
 "metadata": {
  "kernelspec": {
   "display_name": "Python 3",
   "language": "python",
   "name": "python3"
  },
  "language_info": {
   "codemirror_mode": {
    "name": "ipython",
    "version": 2
   },
   "file_extension": ".py",
   "mimetype": "text/x-python",
   "name": "python",
   "nbconvert_exporter": "python",
   "pygments_lexer": "ipython2",
   "version": "2.7.6"
  }
 },
 "nbformat": 4,
 "nbformat_minor": 0
}